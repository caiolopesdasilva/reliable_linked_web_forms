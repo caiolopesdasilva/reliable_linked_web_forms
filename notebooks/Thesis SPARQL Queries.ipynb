{
 "cells": [
  {
   "cell_type": "code",
   "execution_count": null,
   "id": "b01788c1",
   "metadata": {},
   "outputs": [],
   "source": [
    "#list all classes from the ontology\n",
    "\n",
    "SELECT DISTINCT ?entity WHERE {\n",
    "  ?entity a owl:Class.\n",
    "}\n",
    "order by desc(?y)"
   ]
  },
  {
   "cell_type": "code",
   "execution_count": null,
   "id": "b140f982",
   "metadata": {},
   "outputs": [],
   "source": [
    "#list all individuals \n",
    "\n",
    "SELECT DISTINCT ?entity WHERE {\n",
    "  ?entity a owl:NamedIndividual.\n",
    "}\n",
    "\n"
   ]
  },
  {
   "cell_type": "code",
   "execution_count": null,
   "id": "ab709b60",
   "metadata": {},
   "outputs": [],
   "source": [
    "#List all question types and optinionally lists all question types that contain the hability to be queried through wikidata.\n",
    "\n",
    "PREFIX RLWF: <https://raw.githubusercontent.com/caiolopesdasilva/reliable_linked_web_forms/main/onto/RLWF.owl#>\n",
    "\n",
    "SELECT DISTINCT (str(?x) as ?Question_Type) (str(?y) as ?wdt_enabled) WHERE {\n",
    "  ?entity a owl:Class.\n",
    "  ?type rdfs:subClassOf* RLWF:Question.\n",
    "  ?type rdfs:label ?x.\n",
    "OPTIONAL {  ?type RLWF:containsWDT ?y.}\n",
    "}\n",
    "\n",
    "order by desc(?y)\n"
   ]
  },
  {
   "cell_type": "code",
   "execution_count": 5,
   "id": "e9989664",
   "metadata": {},
   "outputs": [
    {
     "ename": "SyntaxError",
     "evalue": "invalid syntax (<ipython-input-5-8ca711614caf>, line 1)",
     "output_type": "error",
     "traceback": [
      "\u001b[1;36m  File \u001b[1;32m\"<ipython-input-5-8ca711614caf>\"\u001b[1;36m, line \u001b[1;32m1\u001b[0m\n\u001b[1;33m    jupyter nbextension enable execute_time/ExecuteTime\u001b[0m\n\u001b[1;37m            ^\u001b[0m\n\u001b[1;31mSyntaxError\u001b[0m\u001b[1;31m:\u001b[0m invalid syntax\n"
     ]
    }
   ],
   "source": [
    "\n"
   ]
  },
  {
   "cell_type": "code",
   "execution_count": null,
   "id": "227cbc17",
   "metadata": {},
   "outputs": [],
   "source": [
    "# list all indididual forms\n",
    "\n",
    "PREFIX RLWF: <https://raw.githubusercontent.com/caiolopesdasilva/reliable_linked_web_forms/main/onto/RLWF.owl#>\n",
    "        \n",
    "SELECT DISTINCT (strafter(str(?form), \"#\") AS ?form) (str(?counter) as ?counter) (str(?title) as ?Title) WHERE  {\n",
    "    ?form a RLWF:Form.\n",
    "    ?form RLWF:form_title ?title.\n",
    "    ?form RLWF:form_counter ?counter.\n",
    "}\n",
    "order by ?counter"
   ]
  },
  {
   "cell_type": "code",
   "execution_count": null,
   "id": "0f62a0b5",
   "metadata": {},
   "outputs": [],
   "source": [
    "#list all triple-store individuals\n",
    "\n",
    "SELECT ?Individual FROM <http://localhost:8890/RLWF>\n",
    "WHERE{ \n",
    "  ?Individual a owl:NamedIndividual \n",
    "}"
   ]
  },
  {
   "cell_type": "code",
   "execution_count": null,
   "id": "e711b96b",
   "metadata": {},
   "outputs": [],
   "source": [
    "#List all forms, questions associated to it, and text object propriety.\n",
    "\n",
    "PREFIX RLWF: <https://raw.githubusercontent.com/caiolopesdasilva/reliable_linked_web_forms/main/onto/RLWF.owl#>\n",
    "\n",
    "SELECT DISTINCT ?form ?question(str(?text) as ?text) \n",
    "WHERE {\n",
    "  ?question a ?type.\n",
    "  ?form RLWF:hasQuestion ?question.\n",
    "  ?type rdfs:subClassOf* RLWF:Question.\n",
    "  ?question RLWF:text ?text.\n",
    "}\n",
    "ORDER BY asc(?question)"
   ]
  },
  {
   "cell_type": "code",
   "execution_count": null,
   "id": "0101e932",
   "metadata": {},
   "outputs": [],
   "source": [
    "#List all forms, question  answerClusters and individuals answers associated to the form.\n",
    "\n",
    "PREFIX RLWF: <https://raw.githubusercontent.com/caiolopesdasilva/reliable_linked_web_forms/main/onto/RLWF.owl#>\n",
    "\n",
    "SELECT DISTINCT ?form ?AnswerCluster ?entityURI (str(?name) as ?name) (str(?hasText) as ?Question) (str(?text) as ?Answer) (str(?c) as ?counter)\n",
    "WHERE {\n",
    "  ?entityURI RLWF:hasAnswerTo ?question.\n",
    "  ?AnswerCluster RLWF:hasIndividualAnswer ?entityURI.\n",
    "  ?question RLWF:text ?hasText.\n",
    "  ?form RLWF:hasQuestion ?question.\n",
    "  ?entityURI RLWF:individual_answer ?text. \n",
    "  ?AnswerCluster RLWF:answerCluster_counter ?c.\n",
    "  ?AnswerCluster prov:wasAttributedTo ?agent.\n",
    "  ?AnswerCluster RLWF:containsAnswersFrom ?form.\n",
    "  ?agent RLWF:agent_name ?name.\n",
    "}\n",
    "order by asc(?c)"
   ]
  },
  {
   "cell_type": "code",
   "execution_count": null,
   "id": "5a7d0efb",
   "metadata": {},
   "outputs": [],
   "source": [
    "#list all prov:activities , the time and the agent associated with it.\n",
    "\n",
    "\n",
    "\n",
    "\n",
    "\n"
   ]
  },
  {
   "cell_type": "code",
   "execution_count": null,
   "id": "e55f7ffb",
   "metadata": {},
   "outputs": [],
   "source": [
    "#List form metada based on title\n",
    "\n",
    "SELECT DISTINCT (strafter(str(?x), \"#\") AS ?form_instance) (strafter(str(?entity), \"#\") AS ?entity) (str(?counter) as ?qcounter) (str(?text) as ?text) (str(?q) as ?questiontype) (str(?wdt) as ?wdt)\n",
    "WHERE {\n",
    "?x RLWF:hasQuestion ?entity.\n",
    "?x RLWF:form_title '\"\"\" + selected_title + \"\"\"'^^xsd:string.\n",
    "?entity a ?type.\n",
    "?type rdfs:label ?q.\n",
    "?type rdfs:subClassOf* RLWF:Question.\n",
    "?entity RLWF:text ?text.\n",
    "?entity RLWF:question_counter ?counter.\n",
    "OPTIONAL{?type RLWF:containsWDT ?wdt}.\n",
    "}\n",
    "ORDER BY asc(?entity)\n",
    "        "
   ]
  },
  {
   "cell_type": "code",
   "execution_count": null,
   "id": "5b873416",
   "metadata": {},
   "outputs": [],
   "source": [
    "#list all agents in triple store and their uid\n",
    "\n",
    "PREFIX prov: <http://www.w3.org/ns/prov#>\n",
    "PREFIX RLWF: <https://raw.githubusercontent.com/caiolopesdasilva/reliable_linked_web_forms/main/onto/RLWF.owl#>\n",
    "\n",
    "SELECT DISTINCT (strafter(str(?person), \"#\") AS ?person) (str(?name)) (str(?email) as ?email) WHERE {\n",
    "  ?person a prov:Person.\n",
    "  ?person RLWF:agent_name ?name.\n",
    "  ?person RLWF:agent_email ?email\n",
    "\n",
    "}"
   ]
  },
  {
   "cell_type": "code",
   "execution_count": null,
   "id": "98d16ab9",
   "metadata": {},
   "outputs": [],
   "source": [
    "#list all form questions\n",
    "\n",
    "\n",
    "PREFIX RLWF: <https://raw.githubusercontent.com/caiolopesdasilva/reliable_linked_web_forms/main/onto/RLWF.owl#>\n",
    "\n",
    "\n",
    "SELECT DISTINCT(str(?counter) as ?qcounter) (str(?text) as ?text) (str(?q) as ?questiontype) (str(?wdt) as ?wdt)\n",
    "WHERE {\n",
    "\n",
    "  ?form RLWF:hasQuestion ?entity.\n",
    "  ?form RLWF:form_title \"\"\"\"FORM_UID_HERE\"\"\"\"^^xsd:string.\n",
    "  ?entity a ?type.\n",
    "  ?type rdfs:label ?q.\n",
    "  ?type rdfs:subClassOf* RLWF:Question.\n",
    "  ?entity RLWF:text ?text.\n",
    "  ?entity RLWF:question_counter ?counter.\n",
    "  ?type RLWF:containsWDT ?wdt.\n",
    "\n",
    "}\n",
    "ORDER BY asc(?entity)"
   ]
  },
  {
   "cell_type": "code",
   "execution_count": null,
   "id": "2114ffe4",
   "metadata": {},
   "outputs": [],
   "source": [
    "#ASK if agent exists in triple-store\n",
    "\n",
    "PREFIX RLWF: <https://raw.githubusercontent.com/caiolopesdasilva/reliable_linked_web_forms/main/onto/RLWF.owl#>\n",
    "ask \n",
    "WHERE {\n",
    "?person RLWF:agent_email ?email.\n",
    "filter contains(?email,'\"\"\" + agent_name + \"\"\"')\n",
    "}\n",
    "    "
   ]
  },
  {
   "cell_type": "code",
   "execution_count": null,
   "id": "db745eb4",
   "metadata": {},
   "outputs": [],
   "source": [
    "#Gather information from agent\n",
    "\n",
    "PREFIX RLWF: <https://raw.githubusercontent.com/caiolopesdasilva/reliable_linked_web_forms/main/onto/RLWF.owl#>\n",
    "select distinct (strafter(str(?person), \"#\") AS ?person)\n",
    "WHERE {\n",
    "?person a owl:NamedIndividual.\n",
    "?person RLWF:agent_email ?email.\n",
    "filter contains (?email,'\"\"\" + email + \"\"\"')\n",
    "}"
   ]
  },
  {
   "cell_type": "code",
   "execution_count": null,
   "id": "ed769edd",
   "metadata": {},
   "outputs": [],
   "source": [
    "#Insert new person agent\n",
    "\n",
    "PREFIX RLWF: <https://raw.githubusercontent.com/caiolopesdasilva/reliable_linked_web_forms/main/onto/RLWF.owl#>\n",
    "\n",
    "INSERT DATA{\n",
    "GRAPH <http://localhost:8890/RLWF>\n",
    "{\n",
    "RLWF:KvrpZJzZFS7BfHrzSQB73d rdf:type owl:NamedIndividual ,\n",
    "                  prov:Person ;\n",
    "         RLWF:agent_email \"Jason@email.com\"^^xsd:string ;\n",
    "         RLWF:agent_name \"Jason\"^^xsd:string .\n",
    "}\n",
    "}"
   ]
  },
  {
   "cell_type": "code",
   "execution_count": 4,
   "id": "8bbce6be",
   "metadata": {},
   "outputs": [],
   "source": [
    "#register respond new activity\n",
    "\n",
    "\n",
    "PREFIX RLWF: <https://raw.githubusercontent.com/caiolopesdasilva/reliable_linked_web_forms/main/onto/RLWF.owl#>\n",
    "\n",
    "INSERT DATA{\n",
    "GRAPH <http://localhost:8890/RLWF>\n",
    "{\n",
    "RLWF:\"\"\" + act_uid + \"\"\" rdf:type owl:NamedIndividual ,\n",
    "                        RLWF:RespondActivity ;\n",
    "                      prov:hadRole RLWF:RespondentRole ;\n",
    "                      prov:wasAssociatedWith RLWF:\"\"\" + uid + \"\"\" ;\n",
    "                      prov:atTime \"'\"\"\" + now.strftime(\"%d/%m/%YT%H:%M:%S\") + \"\"\"'\"^^xsd:dateTime .\n",
    "}\n",
    "}\n",
    "\n"
   ]
  },
  {
   "cell_type": "code",
   "execution_count": null,
   "id": "3150ec79",
   "metadata": {},
   "outputs": [],
   "source": [
    "#register individual answer / there variants for answers with URIs\n",
    "\n",
    "PREFIX RLWF: <https://raw.githubusercontent.com/caiolopesdasilva/reliable_linked_web_forms/main/onto/RLWF.owl#>\n",
    "    \n",
    "INSERT DATA{\n",
    "    GRAPH <http://localhost:8890/RLWF>\n",
    "    {\n",
    "RLWF:\"\"\" + individual_answer_uid + \"\"\" a owl:NamedIndividual ,\n",
    "                                RLWF:IndividualAnswer ;\n",
    "                        RLWF:hasAnswerTo RLWF:\"\"\" + q_uids + \"\"\" ;\n",
    "                        RLWF:answer_counter '\"\"\" + x + \"\"\"'^^xsd:int ;\n",
    "            RLWF:individual_answer '\"\"\" + answer + \"\"\"'^^xsd:string .\n",
    "        }\n",
    "        }"
   ]
  },
  {
   "cell_type": "code",
   "execution_count": null,
   "id": "6ee4d798",
   "metadata": {},
   "outputs": [],
   "source": [
    "# create answer cluster will the created activity and individual answers\n",
    "\n",
    "        PREFIX RLWF: <https://raw.githubusercontent.com/caiolopesdasilva/reliable_linked_web_forms/main/onto/RLWF.owl#>\n",
    "        #the problem probably lies in the individual answers array \"can only concatenate str (not \"int\") to str\"\n",
    "        INSERT DATA{\n",
    "        GRAPH <http://localhost:8890/RLWF>\n",
    "        {\n",
    "        RLWF:\"\"\" + answer_cluster_id + \"\"\" rdf:type owl:NamedIndividual ,\n",
    "                         RLWF:AnswerCluster ;\n",
    "                prov:wasAttributedTo RLWF:\"\"\" + uid + \"\"\";\n",
    "                prov:wasGeneratedBy RLWF:\"\"\" + prov_activity_id + \"\"\";\n",
    "                RLWF:containsAnswersFrom RLWF:\"\"\" + form_instance + \"\"\" ;\n",
    "                RLWF:hasIndividualAnswer RLWF:\"\"\" + individual_answers_name[0] + \"\"\",\n",
    "                                         RLWF:\"\"\" + individual_answers_name[1] + \"\"\",\n",
    "                                         RLWF:\"\"\" + individual_answers_name[2] + \"\"\",\n",
    "                                         RLWF:\"\"\" + individual_answers_name[3] + \"\"\",\n",
    "                                         RLWF:\"\"\" + individual_answers_name[4] + \"\"\",\n",
    "                                         RLWF:\"\"\" + individual_answers_name[5] + \"\"\";\n",
    "                RLWF:answerCluster_counter '\"\"\" + (str(cluster_counter)) + \"\"\"'^^xsd:int .\n",
    "        }\n",
    "        }"
   ]
  },
  {
   "cell_type": "code",
   "execution_count": null,
   "id": "ab5142ff",
   "metadata": {},
   "outputs": [],
   "source": [
    "#create custom question\n",
    "\n",
    "RLWF:\"NAMEHERE\" rdf:type owl:Class ;\n",
    "                     rdfs:subClassOf RLWF:Question ;\n",
    "                     rdfs:comment \"\"@en ;\n",
    "                     rdfs:label \"\" ;\n",
    "                     RLWF:containsWDT \"\"^^xsd:int ;\n",
    "                     RLWF:wikidataPredicate \"\" ."
   ]
  },
  {
   "cell_type": "code",
   "execution_count": null,
   "id": "eb5f0d92",
   "metadata": {},
   "outputs": [],
   "source": [
    "#List all answers from answer instance #optionally any URIs\n",
    "\n",
    "PREFIX RLWF: <https://raw.githubusercontent.com/caiolopesdasilva/reliable_linked_web_forms/main/onto/RLWF.owl#>\n",
    "\n",
    "SELECT DISTINCT\n",
    " (str(?hasText) as ?Question)\n",
    " (str(?text) as ?Answer)\n",
    " (strafter(str(?answerCluster), \"#\") AS ?answerCluster)\n",
    " (strafter(str(?entityURI), \"#\") AS ?entityURI)\n",
    " (str(?answer_uri) as ?Answer_uri)\n",
    "\n",
    "WHERE {\n",
    "  ?entityURI RLWF:hasAnswerTo ?question.\n",
    "  ?entityURI RLWF:answer_counter ?counter.\n",
    "  ?question RLWF:text ?hasText.\n",
    "  ?entityURI RLWF:individual_answer ?text.\n",
    "  ?answerCluster RLWF:hasIndividualAnswer ?entityURI.\n",
    "\n",
    "filter contains(str(?answerCluster ),\"CLUSTER_UID_HERE\").\n",
    "OPTIONAL{?entityURI RLWF:answer_URI ?answer_uri}\n",
    "}\n",
    "\n",
    "order by asc(?counter)"
   ]
  }
 ],
 "metadata": {
  "kernelspec": {
   "display_name": "Python 3",
   "language": "python",
   "name": "python3"
  },
  "language_info": {
   "codemirror_mode": {
    "name": "ipython",
    "version": 3
   },
   "file_extension": ".py",
   "mimetype": "text/x-python",
   "name": "python",
   "nbconvert_exporter": "python",
   "pygments_lexer": "ipython3",
   "version": "3.9.5"
  }
 },
 "nbformat": 4,
 "nbformat_minor": 5
}

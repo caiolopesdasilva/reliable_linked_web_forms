{
 "cells": [
  {
   "cell_type": "code",
   "execution_count": null,
   "id": "ab736791",
   "metadata": {},
   "outputs": [],
   "source": [
    "pip install virtuoso"
   ]
  },
  {
   "cell_type": "code",
   "execution_count": null,
   "id": "1d19e4b7",
   "metadata": {},
   "outputs": [],
   "source": [
    "pip install sqlalchemy"
   ]
  },
  {
   "cell_type": "code",
   "execution_count": null,
   "id": "4052ba5c",
   "metadata": {},
   "outputs": [],
   "source": [
    "pip install sparqlwrapper"
   ]
  },
  {
   "cell_type": "code",
   "execution_count": null,
   "id": "b5af3caf",
   "metadata": {},
   "outputs": [],
   "source": [
    "\n",
    "from SPARQLWrapper import SPARQLWrapper, JSON\n",
    "\n",
    "sparql = SPARQLWrapper(\"http://localhost:8890/sparql/\")\n",
    "sparql.setQuery(\"\"\"\n",
    "PREFIX RWLF: <https://raw.githubusercontent.com/caiolopesdasilva/reliable_linked_web_forms/main/onto/RLWF.owl#>\n",
    " \n",
    "SELECT DISTINCT ?type\n",
    "WHERE {\n",
    "  ?subject a ?type.\n",
    "  FILTER( STRSTARTS(STR(?type),str(RWLF:)) )\n",
    "}\n",
    "\"\"\")\n",
    "sparql.setReturnFormat(JSON)\n",
    "results = sparql.query().convert()\n",
    "\n",
    "\n",
    "for result in results[\"results\"][\"bindings\"]:\n",
    "    print(result[\"type\"][\"value\"])\n"
   ]
  },
  {
   "cell_type": "code",
   "execution_count": null,
   "id": "aa53dffa",
   "metadata": {},
   "outputs": [],
   "source": [
    "from SPARQLWrapper import SPARQLWrapper, JSON\n",
    "\n",
    "sparql = SPARQLWrapper(\"http://localhost:8890/sparql/\")\n",
    "sparql.setQuery(\"\"\"\n",
    "  SELECT  DISTINCT ?g \n",
    "   WHERE  { GRAPH ?g {?s ?p ?o} } \n",
    "ORDER BY  ?g\n",
    "\n",
    "\"\"\")\n",
    "sparql.setReturnFormat(JSON)\n",
    "results = sparql.query().convert()\n",
    "\n",
    "\n",
    "for result in results[\"results\"][\"bindings\"]:\n",
    "    print(result[\"g\"][\"value\"])"
   ]
  },
  {
   "cell_type": "code",
   "execution_count": null,
   "id": "58c96113",
   "metadata": {},
   "outputs": [],
   "source": [
    "PREFIX : <https://raw.githubusercontent.com/caiolopesdasilva/reliable_linked_web_forms/main/onto/RLWF.owl#>\n",
    "PREFIX dc: <http://purl.org/dc/elements/1.1/>\n",
    "PREFIX owl: <http://www.w3.org/2002/07/owl#>\n",
    "PREFIX rdf: <http://www.w3.org/1999/02/22-rdf-syntax-ns#>\n",
    "PREFIX  xml: <http://www.w3.org/XML/1998/namespace>\n",
    "PREFIX  xsd: <http://www.w3.org/2001/XMLSchema#>\n",
    "PREFIX RLWF: <https://raw.githubusercontent.com/caiolopesdasilva/reliable_linked_web_forms/main/onto/RLWF.owl#>\n",
    "PREFIX dcam: <http://purl.org/dc/dcam/>\n",
    "PREFIX prov: <http://www.w3.org/ns/prov#>\n",
    "PREFIX rdfs: <http://www.w3.org/2000/01/rdf-schema#>\n",
    "PREFIX terms: <http://purl.org/dc/terms/>\n",
    "\n",
    "INSERT DATA { GRAPH <http://localhost:8890/RWLF> { \n",
    "RLWF:Survey02 rdf:type owl:NamedIndividual } }"
   ]
  },
  {
   "cell_type": "code",
   "execution_count": null,
   "id": "71d6907c",
   "metadata": {},
   "outputs": [],
   "source": [
    "PREFIX : <https://raw.githubusercontent.com/caiolopesdasilva/reliable_linked_web_forms/main/onto/RLWF.owl#>\n",
    "PREFIX dc: <http://purl.org/dc/elements/1.1/>\n",
    "PREFIX owl: <http://www.w3.org/2002/07/owl#>\n",
    "PREFIX rdf: <http://www.w3.org/1999/02/22-rdf-syntax-ns#>\n",
    "PREFIX  xml: <http://www.w3.org/XML/1998/namespace>\n",
    "PREFIX  xsd: <http://www.w3.org/2001/XMLSchema#>\n",
    "PREFIX RLWF: <https://raw.githubusercontent.com/caiolopesdasilva/reliable_linked_web_forms/main/onto/RLWF.owl#>\n",
    "PREFIX dcam: <http://purl.org/dc/dcam/>\n",
    "PREFIX prov: <http://www.w3.org/ns/prov#>\n",
    "PREFIX rdfs: <http://www.w3.org/2000/01/rdf-schema#>\n",
    "PREFIX terms: <http://purl.org/dc/terms/>\n",
    "\n",
    "SELECT  ?Survey\n",
    "WHERE { \n",
    "  ?Survey   rdf:type owl:NamedIndividual \n",
    "\n",
    "}"
   ]
  },
  {
   "cell_type": "code",
   "execution_count": null,
   "id": "88e33c90",
   "metadata": {},
   "outputs": [],
   "source": [
    "from SPARQLWrapper import SPARQLWrapper, JSON\n",
    "\n",
    "sparql = SPARQLWrapper(\"http://localhost:8890/sparql/\")\n",
    "sparql.setQuery(\"\"\"\n",
    "SELECT  ?Survey\n",
    "WHERE { \n",
    "  ?Survey   rdf:type owl:NamedIndividual \n",
    "}\n",
    "\"\"\")\n",
    "sparql.setReturnFormat(JSON)\n",
    "results = sparql.query().convert()\n",
    "\n",
    "\n",
    "for result in results[\"results\"][\"bindings\"]:\n",
    "    print(result[\"Survey\"][\"value\"])"
   ]
  },
  {
   "cell_type": "code",
   "execution_count": null,
   "id": "ccbcc077",
   "metadata": {},
   "outputs": [],
   "source": [
    "PREFIX prov: <http://www.w3.org/ns/prov#>\n",
    "\n",
    "SELECT  *\n",
    "WHERE { \n",
    "  ?x a prov:Person\n",
    "\n",
    "}"
   ]
  },
  {
   "cell_type": "code",
   "execution_count": null,
   "id": "c39d32e3",
   "metadata": {},
   "outputs": [],
   "source": [
    "Select the instance and the name of a person\n",
    "\n",
    "\n",
    "PREFIX prov: <http://www.w3.org/ns/prov#>\n",
    "PREFIX RLWF: <https://raw.githubusercontent.com/caiolopesdasilva/reliable_linked_web_forms/main/onto/RLWF.owl#>\n",
    "\n",
    "SELECT DISTINCT ?person (str(?name)) WHERE {\n",
    "  ?person a prov:Person.\n",
    "  ?person RLWF:agent_name ?name.\n",
    "}"
   ]
  },
  {
   "cell_type": "code",
   "execution_count": null,
   "id": "64fbbb1a",
   "metadata": {},
   "outputs": [],
   "source": [
    "PREFIX prov: <http://www.w3.org/ns/prov#>\n",
    "PREFIX RLWF: <https://raw.githubusercontent.com/caiolopesdasilva/reliable_linked_web_forms/main/onto/RLWF.owl#>\n",
    "\n",
    "SELECT DISTINCT ?question(str(?text) as ?text) WHERE {\n",
    "  ?question a/rdfs:SubclassOf* ?type.\n",
    "  ?type rdfs:SubclassOf* RLWF:SurveyQuestion.\n",
    "  ?question RLWF:hasText ?text.\n",
    "\n",
    "}"
   ]
  },
  {
   "cell_type": "code",
   "execution_count": null,
   "id": "0a39ebb8",
   "metadata": {},
   "outputs": [],
   "source": [
    "#List all questions that the entity contains S01\n",
    "\n",
    "PREFIX RLWF: <https://raw.githubusercontent.com/caiolopesdasilva/reliable_linked_web_forms/main/onto/RLWF.owl#>\n",
    "\n",
    "SELECT DISTINCT ?entity (str(?text) as ?text)\n",
    "WHERE {\n",
    "  ?entity rdf:type ?type.\n",
    "  ?type rdfs:subClassOf* RLWF:FormQuestion.\n",
    "  ?entity RLWF:hasText ?text.\n",
    " filter contains(str(?entity),\"F01\").\n",
    "}\n",
    "ORDER BY asc(?entity)"
   ]
  },
  {
   "cell_type": "code",
   "execution_count": null,
   "id": "6a2dd66c",
   "metadata": {},
   "outputs": [],
   "source": [
    "#List all answers from answer instance01\n",
    "\n",
    "PREFIX RLWF: <https://raw.githubusercontent.com/caiolopesdasilva/reliable_linked_web_forms/main/onto/RLWF.owl#>\n",
    "\n",
    "SELECT DISTINCT (str(?hasText) as ?Question) (str(?text) as ?Answer) ?entityURI\n",
    "WHERE {\n",
    "  ?entityURI a RLWF:IndividualAnswer.\n",
    "  ?entityURI RLWF:hasAnswerTo ?question.\n",
    "  ?question RLWF:text ?hasText.\n",
    "  ?entityURI RLWF:individual_answer ?text. \n",
    "\n",
    "filter contains(str(?entityURI),\"F01A01\").\n",
    "FILTER(regex(?question, \"F01Q01\")).\n",
    "}\n"
   ]
  },
  {
   "cell_type": "code",
   "execution_count": null,
   "id": "6fb15061",
   "metadata": {},
   "outputs": [],
   "source": [
    "#List all question, respondents and answers from all surveys\n",
    "\n",
    "PREFIX prov: <http://www.w3.org/ns/prov#>\n",
    "PREFIX RLWF: <https://raw.githubusercontent.com/caiolopesdasilva/reliable_linked_web_forms/main/onto/RLWF.owl#>\n",
    "PREFIX terms: <http://purl.org/dc/terms/>\n",
    "\n",
    "SELECT DISTINCT (str(?title) as ?title) (str(?name) as ?participant) (str(?questiontxt) as ?question)  (str(?answer) as ?answer)WHERE {\n",
    "  ?form RLWF:hasQuestion ?question.\n",
    "  ?form terms:title ?title.\n",
    "  ?person RLWF:agent_name ?name.\n",
    "  ?instance prov:wasAttributedTo ?person.\n",
    "  ?instance a RLWF:FormAnswer.\n",
    "  ?answerinstance RLWF:hasFormResponse ?instance.\n",
    "  ?answerinstance RLWF:hasAnswer ?answer.\n",
    "  ?answerinstance RLWF:hasAnswerTo ?query.\n",
    "  ?query RLWF:hasText ?questiontxt.\n",
    "\n",
    "}\n",
    "  ORDER BY asc(?answerinstance)"
   ]
  },
  {
   "cell_type": "code",
   "execution_count": null,
   "id": "6761adab",
   "metadata": {},
   "outputs": [],
   "source": [
    "PREFIX prov: <http://www.w3.org/ns/prov#>\n",
    "PREFIX RLWF: <https://raw.githubusercontent.com/caiolopesdasilva/reliable_linked_web_forms/main/onto/RLWF.owl#>\n",
    "PREFIX terms: <http://purl.org/dc/terms/>\n",
    "\n",
    "SELECT DISTINCT (str(?title) as ?title) (str(?order) as ?QuestionOrder) (str(?name) as ?participant) (str(?questiontxt) as ?question)  (str(?answer) as ?answer) WHERE {\n",
    "\n",
    "  ?form terms:title ?title.\n",
    "  ?form RLWF:hasQuestion ?question.\n",
    "  ?query RLWF:text ?questiontxt.\n",
    "  ?query RLWF:questionOrder ?order.\n",
    "  ?answerinstance RLWF:answerClusterOrder ?instance.\n",
    "  ?person RLWF:agent_name ?name.\n",
    "  ?answerinstance prov:wasAttributedTo ?person.\n",
    "  ?answerinstance RLWF:hasIndividualAnswer ?x.\n",
    "  ?x RLWF:hasAnswerTo ?query.\n",
    "  ?x RLWF:individual_answer ?answer\n",
    "\n",
    "}\n",
    "order by ?instance ?order "
   ]
  },
  {
   "cell_type": "code",
   "execution_count": null,
   "id": "01f5bd77",
   "metadata": {},
   "outputs": [],
   "source": [
    "PREFIX prov: <http://www.w3.org/ns/prov#>\n",
    "PREFIX RLWF: <https://raw.githubusercontent.com/caiolopesdasilva/reliable_linked_web_forms/main/onto/RLWF.owl#>\n",
    "PREFIX terms: <http://purl.org/dc/terms/>\n",
    "\n",
    "SELECT DISTINCT (str(?title) as ?title) (str(?order) as ?QuestionOrder) (str(?name) as ?participant) (str(?questiontxt) as ?question)  (str(?answer) as ?answer) ?uri WHERE {\n",
    "\n",
    "  ?form terms:title ?title.\n",
    "  ?form RLWF:hasQuestion ?question.\n",
    "  ?query RLWF:text ?questiontxt.\n",
    "  ?query RLWF:questionOrder ?order.\n",
    "  ?answerinstance RLWF:answerClusterOrder ?instance.\n",
    "  ?person RLWF:agent_name ?name.\n",
    "  ?answerinstance prov:wasAttributedTo ?person.\n",
    "  ?answerinstance RLWF:hasIndividualAnswer ?x.\n",
    "  ?x RLWF:hasAnswerTo ?query.\n",
    "  ?x RLWF:individual_answer ?answer.\n",
    "  ?x RLWF:answerURI ?uri.\n",
    "\n",
    "FILTER(regex(?uri, \"Q55\")).\n",
    "}\n",
    "order by ?instance ?order "
   ]
  }
 ],
 "metadata": {
  "kernelspec": {
   "display_name": "Python 3",
   "language": "python",
   "name": "python3"
  },
  "language_info": {
   "codemirror_mode": {
    "name": "ipython",
    "version": 3
   },
   "file_extension": ".py",
   "mimetype": "text/x-python",
   "name": "python",
   "nbconvert_exporter": "python",
   "pygments_lexer": "ipython3",
   "version": "3.9.5"
  }
 },
 "nbformat": 4,
 "nbformat_minor": 5
}

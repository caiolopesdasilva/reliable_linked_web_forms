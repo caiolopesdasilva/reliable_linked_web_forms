{
 "cells": [
  {
   "cell_type": "code",
   "execution_count": 1,
   "id": "435db7e7",
   "metadata": {},
   "outputs": [
    {
     "name": "stdout",
     "output_type": "stream",
     "text": [
      "Collecting virtuosoNote: you may need to restart the kernel to use updated packages.\n",
      "  Downloading virtuoso-0.12.6.tar.gz (13 kB)\n",
      "  Downloading virtuoso-0.12.5.tar.gz (13 kB)\n",
      "  Downloading virtuoso-0.12.4.tar.gz (13 kB)\n",
      "  Downloading virtuoso-0.12.3.tar.gz (13 kB)\n",
      "  Downloading virtuoso-0.12.1.tar.gz (13 kB)\n",
      "Collecting pyodbc>=2.1.6\n",
      "  Downloading pyodbc-4.0.30-cp39-cp39-win_amd64.whl (67 kB)\n",
      "Building wheels for collected packages: virtuoso\n",
      "  Building wheel for virtuoso (setup.py): started\n",
      "  Building wheel for virtuoso (setup.py): finished with status 'done'\n",
      "  Created wheel for virtuoso: filename=virtuoso-0.12.1-py3-none-any.whl size=11893 sha256=f135ddd7e623c63669c2d6380a6aa11b768c43a7d1f76d47cf78170b343e4160\n",
      "\n",
      "  Stored in directory: c:\\users\\caiol\\appdata\\local\\pip\\cache\\wheels\\31\\33\\4b\\8f11203832b431e5079b2e78a20c2e595ceef30395e4d4bdce\n",
      "Successfully built virtuoso\n",
      "Installing collected packages: pyodbc, virtuoso\n",
      "Successfully installed pyodbc-4.0.30 virtuoso-0.12.1\n"
     ]
    }
   ],
   "source": [
    "pip install virtuoso\n"
   ]
  },
  {
   "cell_type": "code",
   "execution_count": 2,
   "id": "970d3233",
   "metadata": {},
   "outputs": [
    {
     "name": "stdout",
     "output_type": "stream",
     "text": [
      "Collecting sqlalchemy\n",
      "  Downloading SQLAlchemy-1.4.17-cp39-cp39-win_amd64.whl (1.5 MB)\n",
      "Collecting greenlet!=0.4.17\n",
      "  Downloading greenlet-1.1.0-cp39-cp39-win_amd64.whl (95 kB)\n",
      "Installing collected packages: greenlet, sqlalchemy\n",
      "Successfully installed greenlet-1.1.0 sqlalchemy-1.4.17\n",
      "Note: you may need to restart the kernel to use updated packages.\n"
     ]
    }
   ],
   "source": [
    "pip install sqlalchemy"
   ]
  },
  {
   "cell_type": "code",
   "execution_count": 4,
   "id": "70c8fe48",
   "metadata": {},
   "outputs": [
    {
     "ename": "NameError",
     "evalue": "name 'virtuoso' is not defined",
     "output_type": "error",
     "traceback": [
      "\u001b[1;31m---------------------------------------------------------------------------\u001b[0m",
      "\u001b[1;31mNameError\u001b[0m                                 Traceback (most recent call last)",
      "\u001b[1;32m<ipython-input-4-617514ed6789>\u001b[0m in \u001b[0;36m<module>\u001b[1;34m\u001b[0m\n\u001b[1;32m----> 1\u001b[1;33m \u001b[0mvirtuoso\u001b[0m\u001b[1;33m\u001b[0m\u001b[1;33m\u001b[0m\u001b[0m\n\u001b[0m",
      "\u001b[1;31mNameError\u001b[0m: name 'virtuoso' is not defined"
     ]
    }
   ],
   "source": [
    "\n"
   ]
  },
  {
   "cell_type": "code",
   "execution_count": 5,
   "id": "84937b7f",
   "metadata": {},
   "outputs": [
    {
     "ename": "SyntaxError",
     "evalue": "invalid syntax (<ipython-input-5-29db7b5b8877>, line 1)",
     "output_type": "error",
     "traceback": [
      "\u001b[1;36m  File \u001b[1;32m\"<ipython-input-5-29db7b5b8877>\"\u001b[1;36m, line \u001b[1;32m1\u001b[0m\n\u001b[1;33m    $ pip install sparqlwrapper\u001b[0m\n\u001b[1;37m    ^\u001b[0m\n\u001b[1;31mSyntaxError\u001b[0m\u001b[1;31m:\u001b[0m invalid syntax\n"
     ]
    }
   ],
   "source": [
    "$ pip install sparqlwrapper"
   ]
  },
  {
   "cell_type": "code",
   "execution_count": 6,
   "id": "c1a7d0be",
   "metadata": {},
   "outputs": [
    {
     "name": "stdout",
     "output_type": "stream",
     "text": [
      "Collecting sparqlwrapper\n",
      "  Downloading SPARQLWrapper-1.8.5-py3-none-any.whl (26 kB)\n",
      "Collecting rdflib>=4.0\n",
      "  Downloading rdflib-5.0.0-py3-none-any.whl (231 kB)\n",
      "Requirement already satisfied: six in c:\\users\\caiol\\documents\\rlwf_env\\lib\\site-packages (from rdflib>=4.0->sparqlwrapper) (1.16.0)\n",
      "Collecting isodate\n",
      "  Downloading isodate-0.6.0-py2.py3-none-any.whl (45 kB)\n",
      "Requirement already satisfied: pyparsing in c:\\users\\caiol\\documents\\rlwf_env\\lib\\site-packages (from rdflib>=4.0->sparqlwrapper) (2.4.7)\n",
      "Installing collected packages: isodate, rdflib, sparqlwrapper\n",
      "Successfully installed isodate-0.6.0 rdflib-5.0.0 sparqlwrapper-1.8.5\n",
      "Note: you may need to restart the kernel to use updated packages.\n"
     ]
    }
   ],
   "source": [
    "pip install sparqlwrapper"
   ]
  },
  {
   "cell_type": "code",
   "execution_count": 1,
   "id": "e9322ae9",
   "metadata": {},
   "outputs": [
    {
     "name": "stdout",
     "output_type": "stream",
     "text": [
      "https://raw.githubusercontent.com/caiolopesdasilva/reliable_linked_web_forms/main/onto/RLWF.owl#SurveyAnswer\n",
      "https://raw.githubusercontent.com/caiolopesdasilva/reliable_linked_web_forms/main/onto/RLWF.owl#SurveyQuestionAnswer\n",
      "https://raw.githubusercontent.com/caiolopesdasilva/reliable_linked_web_forms/main/onto/RLWF.owl#NameQuestion\n",
      "https://raw.githubusercontent.com/caiolopesdasilva/reliable_linked_web_forms/main/onto/RLWF.owl#EmailQuestion\n",
      "https://raw.githubusercontent.com/caiolopesdasilva/reliable_linked_web_forms/main/onto/RLWF.owl#AcademicInformationQuestion\n",
      "https://raw.githubusercontent.com/caiolopesdasilva/reliable_linked_web_forms/main/onto/RLWF.owl#CommunicationChannelQuestion\n",
      "https://raw.githubusercontent.com/caiolopesdasilva/reliable_linked_web_forms/main/onto/RLWF.owl#SurveyQuestion\n",
      "https://raw.githubusercontent.com/caiolopesdasilva/reliable_linked_web_forms/main/onto/RLWF.owl#CountryQuestion\n",
      "https://raw.githubusercontent.com/caiolopesdasilva/reliable_linked_web_forms/main/onto/RLWF.owl#Survey\n",
      "https://raw.githubusercontent.com/caiolopesdasilva/reliable_linked_web_forms/main/onto/RLWF.owl#CreateActivity\n",
      "https://raw.githubusercontent.com/caiolopesdasilva/reliable_linked_web_forms/main/onto/RLWF.owl#RespondActivity\n"
     ]
    }
   ],
   "source": [
    "\n",
    "from SPARQLWrapper import SPARQLWrapper, JSON\n",
    "\n",
    "sparql = SPARQLWrapper(\"http://localhost:8890/sparql/\")\n",
    "sparql.setQuery(\"\"\"\n",
    "PREFIX RWLF: <https://raw.githubusercontent.com/caiolopesdasilva/reliable_linked_web_forms/main/onto/RLWF.owl#>\n",
    " \n",
    "SELECT DISTINCT ?type\n",
    "WHERE {\n",
    "  ?subject a ?type.\n",
    "  FILTER( STRSTARTS(STR(?type),str(RWLF:)) )\n",
    "}\n",
    "\"\"\")\n",
    "sparql.setReturnFormat(JSON)\n",
    "results = sparql.query().convert()\n",
    "\n",
    "\n",
    "for result in results[\"results\"][\"bindings\"]:\n",
    "    print(result[\"type\"][\"value\"])\n",
    "\n",
    "\n",
    "    \n",
    "    \n",
    "    "
   ]
  },
  {
   "cell_type": "code",
   "execution_count": 41,
   "id": "4287b994",
   "metadata": {},
   "outputs": [
    {
     "name": "stdout",
     "output_type": "stream",
     "text": [
      "dbprdf-label\n",
      "http://bblfish.net/work/atom-owl/2006-06-06/\n",
      "http://dbpedia.org/schema/property_rules#\n",
      "http://localhost:8890/DAV/\n",
      "http://localhost:8890/RWLF\n",
      "http://localhost:8890/sparql\n",
      "http://localhost:8890/temp/LDITEMP\n",
      "http://open.vocab.org/terms\n",
      "http://purl.org/dc/elements/1.1/\n",
      "http://purl.org/dc/terms/\n",
      "http://purl.org/goodrelations/v1\n",
      "http://purl.org/ontology/bibo/\n",
      "http://rdfs.org/sioc/ns#\n",
      "http://scot-project.org/scot/ns#\n",
      "http://www.openlinksw.com/schema/attribution#\n",
      "http://www.openlinksw.com/schemas/RDF_Mapper_Ontology/1.0/\n",
      "http://www.openlinksw.com/schemas/amazon\n",
      "http://www.openlinksw.com/schemas/angel#\n",
      "http://www.openlinksw.com/schemas/bestbuy\n",
      "http://www.openlinksw.com/schemas/cert#\n",
      "http://www.openlinksw.com/schemas/cnet\n",
      "http://www.openlinksw.com/schemas/crunchbase\n",
      "http://www.openlinksw.com/schemas/cv\n",
      "http://www.openlinksw.com/schemas/dbpedia-spotlight#\n",
      "http://www.openlinksw.com/schemas/ebay\n",
      "http://www.openlinksw.com/schemas/evri\n",
      "http://www.openlinksw.com/schemas/google-base\n",
      "http://www.openlinksw.com/schemas/googleplus\n",
      "http://www.openlinksw.com/schemas/klout\n",
      "http://www.openlinksw.com/schemas/linkedin\n",
      "http://www.openlinksw.com/schemas/money\n",
      "http://www.openlinksw.com/schemas/nyt\n",
      "http://www.openlinksw.com/schemas/opengraph\n",
      "http://www.openlinksw.com/schemas/oplbase\n",
      "http://www.openlinksw.com/schemas/stackoverflow#\n",
      "http://www.openlinksw.com/schemas/tesco\n",
      "http://www.openlinksw.com/schemas/twitter\n",
      "http://www.openlinksw.com/schemas/virtrdf#\n",
      "http://www.openlinksw.com/schemas/wolframalpha#\n",
      "http://www.openlinksw.com/schemas/zillow\n",
      "http://www.w3.org/1999/02/22-rdf-syntax-ns#\n",
      "http://www.w3.org/2000/01/rdf-schema#\n",
      "http://www.w3.org/2002/07/owl\n",
      "http://www.w3.org/2002/07/owl#\n",
      "http://www.w3.org/2004/02/skos/core\n",
      "http://www.w3.org/2007/05/powder-s#\n",
      "http://www.w3.org/ns/ldp#\n",
      "http://www.w3.org/ns/r2rml#OVL\n",
      "http://xmlns.com/foaf/0.1/\n",
      "virtrdf-label\n"
     ]
    }
   ],
   "source": [
    "from SPARQLWrapper import SPARQLWrapper, JSON\n",
    "\n",
    "sparql = SPARQLWrapper(\"http://localhost:8890/sparql/\")\n",
    "sparql.setQuery(\"\"\"\n",
    "  SELECT  DISTINCT ?g \n",
    "   WHERE  { GRAPH ?g {?s ?p ?o} } \n",
    "ORDER BY  ?g\n",
    "\n",
    "\"\"\")\n",
    "sparql.setReturnFormat(JSON)\n",
    "results = sparql.query().convert()\n",
    "\n",
    "\n",
    "for result in results[\"results\"][\"bindings\"]:\n",
    "    print(result[\"g\"][\"value\"])\n"
   ]
  },
  {
   "cell_type": "code",
   "execution_count": 2,
   "id": "95d45cfe",
   "metadata": {},
   "outputs": [
    {
     "ename": "SyntaxError",
     "evalue": "invalid syntax (<ipython-input-2-71cdd34ac73c>, line 1)",
     "output_type": "error",
     "traceback": [
      "\u001b[1;36m  File \u001b[1;32m\"<ipython-input-2-71cdd34ac73c>\"\u001b[1;36m, line \u001b[1;32m1\u001b[0m\n\u001b[1;33m    PREFIX RWLF: <https://raw.githubusercontent.com/caiolopesdasilva/reliable_linked_web_forms/main/onto/RLWF.owl#>\u001b[0m\n\u001b[1;37m           ^\u001b[0m\n\u001b[1;31mSyntaxError\u001b[0m\u001b[1;31m:\u001b[0m invalid syntax\n"
     ]
    }
   ],
   "source": [
    "PREFIX : <https://raw.githubusercontent.com/caiolopesdasilva/reliable_linked_web_forms/main/onto/RLWF.owl#>\n",
    "PREFIX dc: <http://purl.org/dc/elements/1.1/>\n",
    "PREFIX owl: <http://www.w3.org/2002/07/owl#>\n",
    "PREFIX rdf: <http://www.w3.org/1999/02/22-rdf-syntax-ns#>\n",
    "PREFIX  xml: <http://www.w3.org/XML/1998/namespace>\n",
    "PREFIX  xsd: <http://www.w3.org/2001/XMLSchema#>\n",
    "PREFIX RLWF: <https://raw.githubusercontent.com/caiolopesdasilva/reliable_linked_web_forms/main/onto/RLWF.owl#>\n",
    "PREFIX dcam: <http://purl.org/dc/dcam/>\n",
    "PREFIX prov: <http://www.w3.org/ns/prov#>\n",
    "PREFIX rdfs: <http://www.w3.org/2000/01/rdf-schema#>\n",
    "PREFIX terms: <http://purl.org/dc/terms/>\n",
    "\n",
    "INSERT DATA { GRAPH <http://localhost:8890/RWLF> { \n",
    "RLWF:Survey02 rdf:type owl:NamedIndividual } }"
   ]
  },
  {
   "cell_type": "code",
   "execution_count": null,
   "id": "333ccc53",
   "metadata": {},
   "outputs": [],
   "source": [
    "PREFIX : <https://raw.githubusercontent.com/caiolopesdasilva/reliable_linked_web_forms/main/onto/RLWF.owl#>\n",
    "PREFIX dc: <http://purl.org/dc/elements/1.1/>\n",
    "PREFIX owl: <http://www.w3.org/2002/07/owl#>\n",
    "PREFIX rdf: <http://www.w3.org/1999/02/22-rdf-syntax-ns#>\n",
    "PREFIX  xml: <http://www.w3.org/XML/1998/namespace>\n",
    "PREFIX  xsd: <http://www.w3.org/2001/XMLSchema#>\n",
    "PREFIX RLWF: <https://raw.githubusercontent.com/caiolopesdasilva/reliable_linked_web_forms/main/onto/RLWF.owl#>\n",
    "PREFIX dcam: <http://purl.org/dc/dcam/>\n",
    "PREFIX prov: <http://www.w3.org/ns/prov#>\n",
    "PREFIX rdfs: <http://www.w3.org/2000/01/rdf-schema#>\n",
    "PREFIX terms: <http://purl.org/dc/terms/>\n",
    "\n",
    "SELECT  ?Survey\n",
    "WHERE { \n",
    "  ?Survey   rdf:type owl:NamedIndividual \n",
    "\n",
    "}"
   ]
  },
  {
   "cell_type": "code",
   "execution_count": 4,
   "id": "f5007152",
   "metadata": {},
   "outputs": [
    {
     "name": "stdout",
     "output_type": "stream",
     "text": [
      "http://www.w3.org/ns/prov-o\n",
      "http://www.w3.org/ns/prov-o\n",
      "http://www.w3.org/ns/prov-o\n",
      "http://www.w3.org/ns/prov-o-20130312\n",
      "http://www.w3.org/ns/prov-o-20130312\n",
      "http://www.w3.org/ns/prov-o-20130312\n",
      "http://www.w3.org/ns/prov-o#\n",
      "http://www.w3.org/ns/prov-o#\n",
      "http://www.w3.org/ns/prov-o#\n",
      "http://www.w3.org/ns/prov#EmptyCollection\n",
      "http://www.w3.org/ns/prov#EmptyCollection\n",
      "http://www.w3.org/ns/prov#EmptyCollection\n",
      "https://raw.githubusercontent.com/caiolopesdasilva/reliable_linked_web_forms/main/onto/RLWF.owl#Admin\n",
      "https://raw.githubusercontent.com/caiolopesdasilva/reliable_linked_web_forms/main/onto/RLWF.owl#Admin\n",
      "https://raw.githubusercontent.com/caiolopesdasilva/reliable_linked_web_forms/main/onto/RLWF.owl#Admin\n",
      "https://raw.githubusercontent.com/caiolopesdasilva/reliable_linked_web_forms/main/onto/RLWF.owl#P01\n",
      "https://raw.githubusercontent.com/caiolopesdasilva/reliable_linked_web_forms/main/onto/RLWF.owl#P01\n",
      "https://raw.githubusercontent.com/caiolopesdasilva/reliable_linked_web_forms/main/onto/RLWF.owl#P01\n",
      "https://raw.githubusercontent.com/caiolopesdasilva/reliable_linked_web_forms/main/onto/RLWF.owl#P02\n",
      "https://raw.githubusercontent.com/caiolopesdasilva/reliable_linked_web_forms/main/onto/RLWF.owl#P02\n",
      "https://raw.githubusercontent.com/caiolopesdasilva/reliable_linked_web_forms/main/onto/RLWF.owl#P02\n",
      "https://raw.githubusercontent.com/caiolopesdasilva/reliable_linked_web_forms/main/onto/RLWF.owl#P03\n",
      "https://raw.githubusercontent.com/caiolopesdasilva/reliable_linked_web_forms/main/onto/RLWF.owl#P03\n",
      "https://raw.githubusercontent.com/caiolopesdasilva/reliable_linked_web_forms/main/onto/RLWF.owl#P03\n",
      "https://raw.githubusercontent.com/caiolopesdasilva/reliable_linked_web_forms/main/onto/RLWF.owl#Respondent\n",
      "https://raw.githubusercontent.com/caiolopesdasilva/reliable_linked_web_forms/main/onto/RLWF.owl#Respondent\n",
      "https://raw.githubusercontent.com/caiolopesdasilva/reliable_linked_web_forms/main/onto/RLWF.owl#Respondent\n",
      "https://raw.githubusercontent.com/caiolopesdasilva/reliable_linked_web_forms/main/onto/RLWF.owl#S01A01\n",
      "https://raw.githubusercontent.com/caiolopesdasilva/reliable_linked_web_forms/main/onto/RLWF.owl#S01A01\n",
      "https://raw.githubusercontent.com/caiolopesdasilva/reliable_linked_web_forms/main/onto/RLWF.owl#S01A01\n",
      "https://raw.githubusercontent.com/caiolopesdasilva/reliable_linked_web_forms/main/onto/RLWF.owl#S01A01Q01\n",
      "https://raw.githubusercontent.com/caiolopesdasilva/reliable_linked_web_forms/main/onto/RLWF.owl#S01A01Q01\n",
      "https://raw.githubusercontent.com/caiolopesdasilva/reliable_linked_web_forms/main/onto/RLWF.owl#S01A01Q01\n",
      "https://raw.githubusercontent.com/caiolopesdasilva/reliable_linked_web_forms/main/onto/RLWF.owl#S01A01Q02\n",
      "https://raw.githubusercontent.com/caiolopesdasilva/reliable_linked_web_forms/main/onto/RLWF.owl#S01A01Q02\n",
      "https://raw.githubusercontent.com/caiolopesdasilva/reliable_linked_web_forms/main/onto/RLWF.owl#S01A01Q02\n",
      "https://raw.githubusercontent.com/caiolopesdasilva/reliable_linked_web_forms/main/onto/RLWF.owl#S01A01Q03\n",
      "https://raw.githubusercontent.com/caiolopesdasilva/reliable_linked_web_forms/main/onto/RLWF.owl#S01A01Q03\n",
      "https://raw.githubusercontent.com/caiolopesdasilva/reliable_linked_web_forms/main/onto/RLWF.owl#S01A01Q03\n",
      "https://raw.githubusercontent.com/caiolopesdasilva/reliable_linked_web_forms/main/onto/RLWF.owl#S01A01Q04\n",
      "https://raw.githubusercontent.com/caiolopesdasilva/reliable_linked_web_forms/main/onto/RLWF.owl#S01A01Q04\n",
      "https://raw.githubusercontent.com/caiolopesdasilva/reliable_linked_web_forms/main/onto/RLWF.owl#S01A01Q04\n",
      "https://raw.githubusercontent.com/caiolopesdasilva/reliable_linked_web_forms/main/onto/RLWF.owl#S01A01Q05\n",
      "https://raw.githubusercontent.com/caiolopesdasilva/reliable_linked_web_forms/main/onto/RLWF.owl#S01A01Q05\n",
      "https://raw.githubusercontent.com/caiolopesdasilva/reliable_linked_web_forms/main/onto/RLWF.owl#S01A01Q05\n",
      "https://raw.githubusercontent.com/caiolopesdasilva/reliable_linked_web_forms/main/onto/RLWF.owl#S01A01Q06\n",
      "https://raw.githubusercontent.com/caiolopesdasilva/reliable_linked_web_forms/main/onto/RLWF.owl#S01A01Q06\n",
      "https://raw.githubusercontent.com/caiolopesdasilva/reliable_linked_web_forms/main/onto/RLWF.owl#S01A01Q06\n",
      "https://raw.githubusercontent.com/caiolopesdasilva/reliable_linked_web_forms/main/onto/RLWF.owl#S01A02\n",
      "https://raw.githubusercontent.com/caiolopesdasilva/reliable_linked_web_forms/main/onto/RLWF.owl#S01A02\n",
      "https://raw.githubusercontent.com/caiolopesdasilva/reliable_linked_web_forms/main/onto/RLWF.owl#S01A02\n",
      "https://raw.githubusercontent.com/caiolopesdasilva/reliable_linked_web_forms/main/onto/RLWF.owl#S01A02Q01\n",
      "https://raw.githubusercontent.com/caiolopesdasilva/reliable_linked_web_forms/main/onto/RLWF.owl#S01A02Q01\n",
      "https://raw.githubusercontent.com/caiolopesdasilva/reliable_linked_web_forms/main/onto/RLWF.owl#S01A02Q01\n",
      "https://raw.githubusercontent.com/caiolopesdasilva/reliable_linked_web_forms/main/onto/RLWF.owl#S01A02Q02\n",
      "https://raw.githubusercontent.com/caiolopesdasilva/reliable_linked_web_forms/main/onto/RLWF.owl#S01A02Q02\n",
      "https://raw.githubusercontent.com/caiolopesdasilva/reliable_linked_web_forms/main/onto/RLWF.owl#S01A02Q02\n",
      "https://raw.githubusercontent.com/caiolopesdasilva/reliable_linked_web_forms/main/onto/RLWF.owl#S01A02Q03\n",
      "https://raw.githubusercontent.com/caiolopesdasilva/reliable_linked_web_forms/main/onto/RLWF.owl#S01A02Q03\n",
      "https://raw.githubusercontent.com/caiolopesdasilva/reliable_linked_web_forms/main/onto/RLWF.owl#S01A02Q03\n",
      "https://raw.githubusercontent.com/caiolopesdasilva/reliable_linked_web_forms/main/onto/RLWF.owl#S01A02Q04\n",
      "https://raw.githubusercontent.com/caiolopesdasilva/reliable_linked_web_forms/main/onto/RLWF.owl#S01A02Q04\n",
      "https://raw.githubusercontent.com/caiolopesdasilva/reliable_linked_web_forms/main/onto/RLWF.owl#S01A02Q04\n",
      "https://raw.githubusercontent.com/caiolopesdasilva/reliable_linked_web_forms/main/onto/RLWF.owl#S01A02Q05\n",
      "https://raw.githubusercontent.com/caiolopesdasilva/reliable_linked_web_forms/main/onto/RLWF.owl#S01A02Q05\n",
      "https://raw.githubusercontent.com/caiolopesdasilva/reliable_linked_web_forms/main/onto/RLWF.owl#S01A02Q05\n",
      "https://raw.githubusercontent.com/caiolopesdasilva/reliable_linked_web_forms/main/onto/RLWF.owl#S01A02Q06\n",
      "https://raw.githubusercontent.com/caiolopesdasilva/reliable_linked_web_forms/main/onto/RLWF.owl#S01A02Q06\n",
      "https://raw.githubusercontent.com/caiolopesdasilva/reliable_linked_web_forms/main/onto/RLWF.owl#S01A02Q06\n",
      "https://raw.githubusercontent.com/caiolopesdasilva/reliable_linked_web_forms/main/onto/RLWF.owl#S01Q01\n",
      "https://raw.githubusercontent.com/caiolopesdasilva/reliable_linked_web_forms/main/onto/RLWF.owl#S01Q01\n",
      "https://raw.githubusercontent.com/caiolopesdasilva/reliable_linked_web_forms/main/onto/RLWF.owl#S01Q01\n",
      "https://raw.githubusercontent.com/caiolopesdasilva/reliable_linked_web_forms/main/onto/RLWF.owl#S01Q02\n",
      "https://raw.githubusercontent.com/caiolopesdasilva/reliable_linked_web_forms/main/onto/RLWF.owl#S01Q02\n",
      "https://raw.githubusercontent.com/caiolopesdasilva/reliable_linked_web_forms/main/onto/RLWF.owl#S01Q02\n",
      "https://raw.githubusercontent.com/caiolopesdasilva/reliable_linked_web_forms/main/onto/RLWF.owl#S01Q03\n",
      "https://raw.githubusercontent.com/caiolopesdasilva/reliable_linked_web_forms/main/onto/RLWF.owl#S01Q03\n",
      "https://raw.githubusercontent.com/caiolopesdasilva/reliable_linked_web_forms/main/onto/RLWF.owl#S01Q03\n",
      "https://raw.githubusercontent.com/caiolopesdasilva/reliable_linked_web_forms/main/onto/RLWF.owl#S01Q04\n",
      "https://raw.githubusercontent.com/caiolopesdasilva/reliable_linked_web_forms/main/onto/RLWF.owl#S01Q04\n",
      "https://raw.githubusercontent.com/caiolopesdasilva/reliable_linked_web_forms/main/onto/RLWF.owl#S01Q04\n",
      "https://raw.githubusercontent.com/caiolopesdasilva/reliable_linked_web_forms/main/onto/RLWF.owl#S01Q05\n",
      "https://raw.githubusercontent.com/caiolopesdasilva/reliable_linked_web_forms/main/onto/RLWF.owl#S01Q05\n",
      "https://raw.githubusercontent.com/caiolopesdasilva/reliable_linked_web_forms/main/onto/RLWF.owl#S01Q05\n",
      "https://raw.githubusercontent.com/caiolopesdasilva/reliable_linked_web_forms/main/onto/RLWF.owl#S01Q06\n",
      "https://raw.githubusercontent.com/caiolopesdasilva/reliable_linked_web_forms/main/onto/RLWF.owl#S01Q06\n",
      "https://raw.githubusercontent.com/caiolopesdasilva/reliable_linked_web_forms/main/onto/RLWF.owl#S01Q06\n",
      "https://raw.githubusercontent.com/caiolopesdasilva/reliable_linked_web_forms/main/onto/RLWF.owl#Survey01\n",
      "https://raw.githubusercontent.com/caiolopesdasilva/reliable_linked_web_forms/main/onto/RLWF.owl#Survey01\n",
      "https://raw.githubusercontent.com/caiolopesdasilva/reliable_linked_web_forms/main/onto/RLWF.owl#Survey01\n",
      "https://raw.githubusercontent.com/caiolopesdasilva/reliable_linked_web_forms/main/onto/RLWF.owl#create_survey01\n",
      "https://raw.githubusercontent.com/caiolopesdasilva/reliable_linked_web_forms/main/onto/RLWF.owl#create_survey01\n",
      "https://raw.githubusercontent.com/caiolopesdasilva/reliable_linked_web_forms/main/onto/RLWF.owl#create_survey01\n",
      "https://raw.githubusercontent.com/caiolopesdasilva/reliable_linked_web_forms/main/onto/RLWF.owl#respond01_survey01\n",
      "https://raw.githubusercontent.com/caiolopesdasilva/reliable_linked_web_forms/main/onto/RLWF.owl#respond01_survey01\n",
      "https://raw.githubusercontent.com/caiolopesdasilva/reliable_linked_web_forms/main/onto/RLWF.owl#respond01_survey01\n",
      "https://raw.githubusercontent.com/caiolopesdasilva/reliable_linked_web_forms/main/onto/RLWF.owl#respond02_survey01\n",
      "https://raw.githubusercontent.com/caiolopesdasilva/reliable_linked_web_forms/main/onto/RLWF.owl#respond02_survey01\n",
      "https://raw.githubusercontent.com/caiolopesdasilva/reliable_linked_web_forms/main/onto/RLWF.owl#respond02_survey01\n",
      "http://purl.org/dc/terms/\n",
      "http://purl.org/dc/terms/\n",
      "http://purl.org/dc/terms/\n",
      "http://purl.org/dc/terms/URI\n",
      "http://purl.org/dc/terms/URI\n",
      "http://purl.org/dc/terms/URI\n",
      "https://raw.githubusercontent.com/caiolopesdasilva/reliable_linked_web_forms/main/onto/RLWF.owl#Survey02\n",
      "https://raw.githubusercontent.com/caiolopesdasilva/reliable_linked_web_forms/main/onto/RLWF.owl#Survey03\n"
     ]
    }
   ],
   "source": [
    "from SPARQLWrapper import SPARQLWrapper, JSON\n",
    "\n",
    "sparql = SPARQLWrapper(\"http://localhost:8890/sparql/\")\n",
    "sparql.setQuery(\"\"\"\n",
    "SELECT  ?Survey\n",
    "WHERE { \n",
    "  ?Survey   rdf:type owl:NamedIndividual \n",
    "}\n",
    "\"\"\")\n",
    "sparql.setReturnFormat(JSON)\n",
    "results = sparql.query().convert()\n",
    "\n",
    "\n",
    "for result in results[\"results\"][\"bindings\"]:\n",
    "    print(result[\"Survey\"][\"value\"])\n"
   ]
  },
  {
   "cell_type": "code",
   "execution_count": null,
   "id": "6678410b",
   "metadata": {},
   "outputs": [],
   "source": [
    "PREFIX prov: <http://www.w3.org/ns/prov#>\n",
    "\n",
    "SELECT  *\n",
    "WHERE { \n",
    "  ?x a prov:Person\n",
    "\n",
    "}"
   ]
  },
  {
   "cell_type": "code",
   "execution_count": 5,
   "id": "c9e124d7",
   "metadata": {},
   "outputs": [
    {
     "ename": "SyntaxError",
     "evalue": "invalid syntax (<ipython-input-5-6ad81b689e16>, line 1)",
     "output_type": "error",
     "traceback": [
      "\u001b[1;36m  File \u001b[1;32m\"<ipython-input-5-6ad81b689e16>\"\u001b[1;36m, line \u001b[1;32m1\u001b[0m\n\u001b[1;33m    Select the instance and the name of a person\u001b[0m\n\u001b[1;37m           ^\u001b[0m\n\u001b[1;31mSyntaxError\u001b[0m\u001b[1;31m:\u001b[0m invalid syntax\n"
     ]
    }
   ],
   "source": [
    "Select the instance and the name of a person\n",
    "\n",
    "\n",
    "PREFIX prov: <http://www.w3.org/ns/prov#>\n",
    "PREFIX RLWF: <https://raw.githubusercontent.com/caiolopesdasilva/reliable_linked_web_forms/main/onto/RLWF.owl#>\n",
    "\n",
    "SELECT DISTINCT ?person (str(?name)) WHERE {\n",
    "  ?person a prov:Person.\n",
    "  ?person RLWF:agent_name ?name.\n",
    "}"
   ]
  },
  {
   "cell_type": "code",
   "execution_count": null,
   "id": "7fcf0109",
   "metadata": {},
   "outputs": [],
   "source": []
  },
  {
   "cell_type": "code",
   "execution_count": null,
   "id": "c86c48b6",
   "metadata": {},
   "outputs": [],
   "source": [
    "PREFIX prov: <http://www.w3.org/ns/prov#>\n",
    "PREFIX RLWF: <https://raw.githubusercontent.com/caiolopesdasilva/reliable_linked_web_forms/main/onto/RLWF.owl#>\n",
    "\n",
    "SELECT DISTINCT ?question(str(?text) as ?text) WHERE {\n",
    "  ?question a/rdfs:SubclassOf* ?type.\n",
    "  ?type rdfs:SubclassOf* RLWF:SurveyQuestion.\n",
    "  ?question RLWF:hasText ?text.\n",
    "\n",
    "}"
   ]
  },
  {
   "cell_type": "code",
   "execution_count": null,
   "id": "027c244f",
   "metadata": {},
   "outputs": [],
   "source": [
    "List all questions that the entity contains S01"
   ]
  },
  {
   "cell_type": "code",
   "execution_count": null,
   "id": "ab85223c",
   "metadata": {},
   "outputs": [],
   "source": [
    "PREFIX RLWF: <https://raw.githubusercontent.com/caiolopesdasilva/reliable_linked_web_forms/main/onto/RLWF.owl#>\n",
    "\n",
    "SELECT DISTINCT ?entity (str(?text) as ?text)\n",
    "WHERE {\n",
    "  ?entity rdf:type ?type.\n",
    "  ?type rdfs:subClassOf* RLWF:FormQuestion.\n",
    "  ?entity RLWF:hasText ?text.\n",
    " filter contains(str(?entity),\"F01\").\n",
    "}\n",
    "ORDER BY asc(?entity)"
   ]
  },
  {
   "cell_type": "code",
   "execution_count": null,
   "id": "e55c40de",
   "metadata": {},
   "outputs": [],
   "source": [
    "List all answers from answer instance01\n",
    "\n"
   ]
  },
  {
   "cell_type": "code",
   "execution_count": null,
   "id": "63fad88f",
   "metadata": {},
   "outputs": [],
   "source": [
    "PREFIX RLWF: <https://raw.githubusercontent.com/caiolopesdasilva/reliable_linked_web_forms/main/onto/RLWF.owl#>\n",
    "\n",
    "SELECT DISTINCT (str(?hasText) as ?Question) (str(?text) as ?Answer) ?entityURI\n",
    "WHERE {\n",
    "  ?entityURI a RLWF:FormQuestionAnswer.\n",
    "  ?entityURI RLWF:hasAnswerTo ?question.\n",
    "  ?question RLWF:hasText ?hasText.\n",
    "  ?entityURI RLWF:hasAnswer ?text. \n",
    "\n",
    "filter contains(str(?entityURI),\"F01A01\").\n",
    "FILTER(regex(?question, \"F01Q01\")).\n",
    "}"
   ]
  },
  {
   "cell_type": "code",
   "execution_count": null,
   "id": "e20a46ed",
   "metadata": {},
   "outputs": [],
   "source": [
    "List all question, respondents and answers from all surveys"
   ]
  },
  {
   "cell_type": "code",
   "execution_count": null,
   "id": "9c0ab081",
   "metadata": {},
   "outputs": [],
   "source": [
    "PREFIX prov: <http://www.w3.org/ns/prov#>\n",
    "PREFIX RLWF: <https://raw.githubusercontent.com/caiolopesdasilva/reliable_linked_web_forms/main/onto/RLWF.owl#>\n",
    "PREFIX terms: <http://purl.org/dc/terms/>\n",
    "\n",
    "SELECT DISTINCT (str(?title) as ?title) (str(?name) as ?participant) (str(?questiontxt) as ?question)  (str(?answer) as ?answer)WHERE {\n",
    "  ?form RLWF:hasQuestion ?question.\n",
    "  ?form terms:title ?title.\n",
    "  ?person RLWF:agent_name ?name.\n",
    "  ?instance prov:wasAttributedTo ?person.\n",
    "  ?instance a RLWF:FormAnswer.\n",
    "  ?answerinstance RLWF:hasFormResponse ?instance.\n",
    "  ?answerinstance RLWF:hasAnswer ?answer.\n",
    "  ?answerinstance RLWF:hasAnswerTo ?query.\n",
    "  ?query RLWF:hasText ?questiontxt.\n",
    "\n",
    "}\n",
    "  ORDER BY asc(?answerinstance)"
   ]
  },
  {
   "cell_type": "code",
   "execution_count": null,
   "id": "d5265dfb",
   "metadata": {},
   "outputs": [],
   "source": [
    "PREFIX prov: <http://www.w3.org/ns/prov#>\n",
    "PREFIX RLWF: <https://raw.githubusercontent.com/caiolopesdasilva/reliable_linked_web_forms/main/onto/RLWF.owl#>\n",
    "PREFIX terms: <http://purl.org/dc/terms/>\n",
    "\n",
    "SELECT DISTINCT (str(?title) as ?title) (str(?order) as ?QuestionOrder) (str(?name) as ?participant) (str(?questiontxt) as ?question)  (str(?answer) as ?answer) WHERE {\n",
    "\n",
    "  ?form terms:title ?title.\n",
    "  ?form RLWF:hasQuestion ?question.\n",
    "  ?query RLWF:text ?questiontxt.\n",
    "  ?query RLWF:questionOrder ?order.\n",
    "  ?answerinstance RLWF:answerClusterOrder ?instance.\n",
    "  ?person RLWF:agent_name ?name.\n",
    "  ?answerinstance prov:wasAttributedTo ?person.\n",
    "  ?answerinstance RLWF:hasIndividualAnswer ?x.\n",
    "  ?x RLWF:hasAnswerTo ?query.\n",
    "  ?x RLWF:individual_answer ?answer\n",
    "\n",
    "}\n",
    "order by ?instance ?order "
   ]
  },
  {
   "cell_type": "code",
   "execution_count": null,
   "id": "ad3745c0",
   "metadata": {},
   "outputs": [],
   "source": []
  }
 ],
 "metadata": {
  "kernelspec": {
   "display_name": "Python 3",
   "language": "python",
   "name": "python3"
  },
  "language_info": {
   "codemirror_mode": {
    "name": "ipython",
    "version": 3
   },
   "file_extension": ".py",
   "mimetype": "text/x-python",
   "name": "python",
   "nbconvert_exporter": "python",
   "pygments_lexer": "ipython3",
   "version": "3.9.5"
  }
 },
 "nbformat": 4,
 "nbformat_minor": 5
}

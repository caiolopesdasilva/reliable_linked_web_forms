{
 "cells": [
  {
   "cell_type": "code",
   "execution_count": 2,
   "id": "fa0e960a",
   "metadata": {},
   "outputs": [
    {
     "name": "stdout",
     "output_type": "stream",
     "text": [
      "Requirement already satisfied: sparqlwrapper in c:\\users\\caiol\\documents\\rlwf_env\\lib\\site-packages (1.8.5)\n",
      "Requirement already satisfied: rdflib>=4.0 in c:\\users\\caiol\\documents\\rlwf_env\\lib\\site-packages (from sparqlwrapper) (5.0.0)\n",
      "Requirement already satisfied: isodate in c:\\users\\caiol\\documents\\rlwf_env\\lib\\site-packages (from rdflib>=4.0->sparqlwrapper) (0.6.0)\n",
      "Requirement already satisfied: pyparsing in c:\\users\\caiol\\documents\\rlwf_env\\lib\\site-packages (from rdflib>=4.0->sparqlwrapper) (2.4.7)\n",
      "Requirement already satisfied: six in c:\\users\\caiol\\documents\\rlwf_env\\lib\\site-packages (from rdflib>=4.0->sparqlwrapper) (1.16.0)\n",
      "Note: you may need to restart the kernel to use updated packages.\n"
     ]
    }
   ],
   "source": [
    "pip install sparqlwrapper"
   ]
  },
  {
   "cell_type": "code",
   "execution_count": 3,
   "id": "b170fa0c",
   "metadata": {},
   "outputs": [
    {
     "name": "stdout",
     "output_type": "stream",
     "text": [
      "https://raw.githubusercontent.com/caiolopesdasilva/reliable_linked_web_forms/main/onto/RLWF.owl#AcademicInformationQuestion\n",
      "https://raw.githubusercontent.com/caiolopesdasilva/reliable_linked_web_forms/main/onto/RLWF.owl#CommunicationChannelQuestion\n",
      "https://raw.githubusercontent.com/caiolopesdasilva/reliable_linked_web_forms/main/onto/RLWF.owl#CountryQuestion\n",
      "https://raw.githubusercontent.com/caiolopesdasilva/reliable_linked_web_forms/main/onto/RLWF.owl#CreateActivity\n",
      "https://raw.githubusercontent.com/caiolopesdasilva/reliable_linked_web_forms/main/onto/RLWF.owl#EmailQuestion\n",
      "https://raw.githubusercontent.com/caiolopesdasilva/reliable_linked_web_forms/main/onto/RLWF.owl#NameQuestion\n",
      "https://raw.githubusercontent.com/caiolopesdasilva/reliable_linked_web_forms/main/onto/RLWF.owl#RespondActivity\n",
      "https://raw.githubusercontent.com/caiolopesdasilva/reliable_linked_web_forms/main/onto/RLWF.owl#Survey\n",
      "https://raw.githubusercontent.com/caiolopesdasilva/reliable_linked_web_forms/main/onto/RLWF.owl#SurveyAnswer\n",
      "https://raw.githubusercontent.com/caiolopesdasilva/reliable_linked_web_forms/main/onto/RLWF.owl#SurveyQuestion\n",
      "https://raw.githubusercontent.com/caiolopesdasilva/reliable_linked_web_forms/main/onto/RLWF.owl#SurveyQuestionAnswer\n",
      "https://raw.githubusercontent.com/caiolopesdasilva/reliable_linked_web_forms/main/onto/RLWF.owl#Question\n",
      "https://raw.githubusercontent.com/caiolopesdasilva/reliable_linked_web_forms/main/onto/RLWF.owl#Form\n",
      "https://raw.githubusercontent.com/caiolopesdasilva/reliable_linked_web_forms/main/onto/RLWF.owl#AnswerCluster\n",
      "https://raw.githubusercontent.com/caiolopesdasilva/reliable_linked_web_forms/main/onto/RLWF.owl#IndividualAnswer\n",
      "https://raw.githubusercontent.com/caiolopesdasilva/reliable_linked_web_forms/main/onto/RLWF.owl#QuestionType\n"
     ]
    }
   ],
   "source": [
    "from SPARQLWrapper import SPARQLWrapper, JSON\n",
    "\n",
    "sparql = SPARQLWrapper(\"http://localhost:8890/sparql/\")\n",
    "sparql.setQuery(\"\"\"\n",
    "PREFIX RWLF: <https://raw.githubusercontent.com/caiolopesdasilva/reliable_linked_web_forms/main/onto/RLWF.owl#>\n",
    " \n",
    "SELECT DISTINCT ?type\n",
    "WHERE {\n",
    "  ?subject a ?type.\n",
    "  FILTER( STRSTARTS(STR(?type),str(RWLF:)) )\n",
    "}\n",
    "\"\"\")\n",
    "sparql.setReturnFormat(JSON)\n",
    "results = sparql.query().convert()\n",
    "\n",
    "\n",
    "for result in results[\"results\"][\"bindings\"]:\n",
    "    print(result[\"type\"][\"value\"])\n"
   ]
  },
  {
   "cell_type": "code",
   "execution_count": 4,
   "id": "1c345d08",
   "metadata": {},
   "outputs": [
    {
     "name": "stdout",
     "output_type": "stream",
     "text": [
      "dbprdf-label\n",
      "http://bblfish.net/work/atom-owl/2006-06-06/\n",
      "http://dbpedia.org/schema/property_rules#\n",
      "http://localhost:8890/DAV/\n",
      "http://localhost:8890/RLWF\n",
      "http://localhost:8890/sparql\n",
      "http://localhost:8890/temp/LDITEMP\n",
      "http://open.vocab.org/terms\n",
      "http://purl.org/dc/elements/1.1/\n",
      "http://purl.org/dc/terms/\n",
      "http://purl.org/goodrelations/v1\n",
      "http://purl.org/ontology/bibo/\n",
      "http://rdfs.org/sioc/ns#\n",
      "http://scot-project.org/scot/ns#\n",
      "http://www.openlinksw.com/schema/attribution#\n",
      "http://www.openlinksw.com/schemas/RDF_Mapper_Ontology/1.0/\n",
      "http://www.openlinksw.com/schemas/amazon\n",
      "http://www.openlinksw.com/schemas/angel#\n",
      "http://www.openlinksw.com/schemas/bestbuy\n",
      "http://www.openlinksw.com/schemas/cert#\n",
      "http://www.openlinksw.com/schemas/cnet\n",
      "http://www.openlinksw.com/schemas/crunchbase\n",
      "http://www.openlinksw.com/schemas/cv\n",
      "http://www.openlinksw.com/schemas/dbpedia-spotlight#\n",
      "http://www.openlinksw.com/schemas/ebay\n",
      "http://www.openlinksw.com/schemas/evri\n",
      "http://www.openlinksw.com/schemas/google-base\n",
      "http://www.openlinksw.com/schemas/googleplus\n",
      "http://www.openlinksw.com/schemas/klout\n",
      "http://www.openlinksw.com/schemas/linkedin\n",
      "http://www.openlinksw.com/schemas/money\n",
      "http://www.openlinksw.com/schemas/nyt\n",
      "http://www.openlinksw.com/schemas/opengraph\n",
      "http://www.openlinksw.com/schemas/oplbase\n",
      "http://www.openlinksw.com/schemas/stackoverflow#\n",
      "http://www.openlinksw.com/schemas/tesco\n",
      "http://www.openlinksw.com/schemas/twitter\n",
      "http://www.openlinksw.com/schemas/virtrdf#\n",
      "http://www.openlinksw.com/schemas/wolframalpha#\n",
      "http://www.openlinksw.com/schemas/zillow\n",
      "http://www.w3.org/1999/02/22-rdf-syntax-ns#\n",
      "http://www.w3.org/2000/01/rdf-schema#\n",
      "http://www.w3.org/2002/07/owl\n",
      "http://www.w3.org/2002/07/owl#\n",
      "http://www.w3.org/2004/02/skos/core\n",
      "http://www.w3.org/2007/05/powder-s#\n",
      "http://www.w3.org/ns/ldp#\n",
      "http://www.w3.org/ns/r2rml#OVL\n",
      "http://xmlns.com/foaf/0.1/\n",
      "virtrdf-label\n"
     ]
    }
   ],
   "source": [
    "from SPARQLWrapper import SPARQLWrapper, JSON\n",
    "\n",
    "sparql = SPARQLWrapper(\"http://localhost:8890/sparql/\")\n",
    "sparql.setQuery(\"\"\"\n",
    "  SELECT  DISTINCT ?g \n",
    "   WHERE  { GRAPH ?g {?s ?p ?o} } \n",
    "ORDER BY  ?g\n",
    "\n",
    "\"\"\")\n",
    "sparql.setReturnFormat(JSON)\n",
    "results = sparql.query().convert()\n",
    "\n",
    "\n",
    "for result in results[\"results\"][\"bindings\"]:\n",
    "    print(result[\"g\"][\"value\"])"
   ]
  },
  {
   "cell_type": "code",
   "execution_count": null,
   "id": "03598727",
   "metadata": {},
   "outputs": [],
   "source": [
    "PREFIX : <https://raw.githubusercontent.com/caiolopesdasilva/reliable_linked_web_forms/main/onto/RLWF.owl#>\n",
    "PREFIX dc: <http://purl.org/dc/elements/1.1/>\n",
    "PREFIX owl: <http://www.w3.org/2002/07/owl#>\n",
    "PREFIX rdf: <http://www.w3.org/1999/02/22-rdf-syntax-ns#>\n",
    "PREFIX  xml: <http://www.w3.org/XML/1998/namespace>\n",
    "PREFIX  xsd: <http://www.w3.org/2001/XMLSchema#>\n",
    "PREFIX RLWF: <https://raw.githubusercontent.com/caiolopesdasilva/reliable_linked_web_forms/main/onto/RLWF.owl#>\n",
    "PREFIX dcam: <http://purl.org/dc/dcam/>\n",
    "PREFIX prov: <http://www.w3.org/ns/prov#>\n",
    "PREFIX rdfs: <http://www.w3.org/2000/01/rdf-schema#>\n",
    "PREFIX terms: <http://purl.org/dc/terms/>\n",
    "\n",
    "INSERT DATA { GRAPH <http://localhost:8890/RWLF> { \n",
    "RLWF:Survey02 rdf:type owl:NamedIndividual } }"
   ]
  },
  {
   "cell_type": "code",
   "execution_count": null,
   "id": "dc0184aa",
   "metadata": {},
   "outputs": [],
   "source": [
    "PREFIX : <https://raw.githubusercontent.com/caiolopesdasilva/reliable_linked_web_forms/main/onto/RLWF.owl#>\n",
    "PREFIX dc: <http://purl.org/dc/elements/1.1/>\n",
    "PREFIX owl: <http://www.w3.org/2002/07/owl#>\n",
    "PREFIX rdf: <http://www.w3.org/1999/02/22-rdf-syntax-ns#>\n",
    "PREFIX  xml: <http://www.w3.org/XML/1998/namespace>\n",
    "PREFIX  xsd: <http://www.w3.org/2001/XMLSchema#>\n",
    "PREFIX RLWF: <https://raw.githubusercontent.com/caiolopesdasilva/reliable_linked_web_forms/main/onto/RLWF.owl#>\n",
    "PREFIX dcam: <http://purl.org/dc/dcam/>\n",
    "PREFIX prov: <http://www.w3.org/ns/prov#>\n",
    "PREFIX rdfs: <http://www.w3.org/2000/01/rdf-schema#>\n",
    "PREFIX terms: <http://purl.org/dc/terms/>\n",
    "\n",
    "SELECT  ?Survey\n",
    "WHERE { \n",
    "  ?Survey   rdf:type owl:NamedIndividual \n",
    "\n",
    "}"
   ]
  },
  {
   "cell_type": "code",
   "execution_count": null,
   "id": "9c5f20a3",
   "metadata": {},
   "outputs": [],
   "source": [
    "from SPARQLWrapper import SPARQLWrapper, JSON\n",
    "\n",
    "sparql = SPARQLWrapper(\"http://localhost:8890/sparql/\")\n",
    "sparql.setQuery(\"\"\"\n",
    "SELECT  ?Survey\n",
    "WHERE { \n",
    "  ?Survey   rdf:type owl:NamedIndividual \n",
    "}\n",
    "\"\"\")\n",
    "sparql.setReturnFormat(JSON)\n",
    "results = sparql.query().convert()\n",
    "\n",
    "\n",
    "for result in results[\"results\"][\"bindings\"]:\n",
    "    print(result[\"Survey\"][\"value\"])"
   ]
  },
  {
   "cell_type": "code",
   "execution_count": null,
   "id": "871ad20a",
   "metadata": {},
   "outputs": [],
   "source": [
    "PREFIX prov: <http://www.w3.org/ns/prov#>\n",
    "\n",
    "SELECT  *\n",
    "WHERE { \n",
    "  ?x a prov:Person\n",
    "\n",
    "}"
   ]
  },
  {
   "cell_type": "code",
   "execution_count": null,
   "id": "213ab1c9",
   "metadata": {},
   "outputs": [],
   "source": [
    "Select the instance and the name of a person\n",
    "\n",
    "\n",
    "PREFIX prov: <http://www.w3.org/ns/prov#>\n",
    "PREFIX RLWF: <https://raw.githubusercontent.com/caiolopesdasilva/reliable_linked_web_forms/main/onto/RLWF.owl#>\n",
    "\n",
    "SELECT DISTINCT ?person (str(?name)) WHERE {\n",
    "  ?person a prov:Person.\n",
    "  ?person RLWF:agent_name ?name.\n",
    "}"
   ]
  },
  {
   "cell_type": "code",
   "execution_count": null,
   "id": "c1c82386",
   "metadata": {},
   "outputs": [],
   "source": [
    "PREFIX prov: <http://www.w3.org/ns/prov#>\n",
    "PREFIX RLWF: <https://raw.githubusercontent.com/caiolopesdasilva/reliable_linked_web_forms/main/onto/RLWF.owl#>\n",
    "\n",
    "SELECT DISTINCT ?question(str(?text) as ?text) WHERE {\n",
    "  ?question a/rdfs:SubclassOf* ?type.\n",
    "  ?type rdfs:SubclassOf* RLWF:SurveyQuestion.\n",
    "  ?question RLWF:hasText ?text.\n",
    "\n",
    "}"
   ]
  },
  {
   "cell_type": "code",
   "execution_count": null,
   "id": "bf52b0d6",
   "metadata": {},
   "outputs": [],
   "source": [
    "#List all questions that the entity contains S01\n",
    "\n",
    "PREFIX RLWF: <https://raw.githubusercontent.com/caiolopesdasilva/reliable_linked_web_forms/main/onto/RLWF.owl#>\n",
    "\n",
    "SELECT DISTINCT ?entity (str(?text) as ?text)\n",
    "WHERE {\n",
    "  ?entity rdf:type ?type.\n",
    "  ?type rdfs:subClassOf* RLWF:FormQuestion.\n",
    "  ?entity RLWF:hasText ?text.\n",
    " filter contains(str(?entity),\"F01\").\n",
    "}\n",
    "ORDER BY asc(?entity)"
   ]
  },
  {
   "cell_type": "code",
   "execution_count": null,
   "id": "30627dce",
   "metadata": {},
   "outputs": [],
   "source": [
    "#List all answers from answer instance01\n",
    "\n",
    "PREFIX RLWF: <https://raw.githubusercontent.com/caiolopesdasilva/reliable_linked_web_forms/main/onto/RLWF.owl#>\n",
    "\n",
    "SELECT DISTINCT (str(?hasText) as ?Question) (str(?text) as ?Answer) ?entityURI\n",
    "WHERE {\n",
    "  ?entityURI a RLWF:IndividualAnswer.\n",
    "  ?entityURI RLWF:hasAnswerTo ?question.\n",
    "  ?question RLWF:text ?hasText.\n",
    "  ?entityURI RLWF:individual_answer ?text. \n",
    "\n",
    "filter contains(str(?entityURI),\"F01A01\").\n",
    "FILTER(regex(?question, \"F01Q01\")).\n",
    "}\n"
   ]
  },
  {
   "cell_type": "code",
   "execution_count": null,
   "id": "59fd68a7",
   "metadata": {},
   "outputs": [],
   "source": [
    "#List all question, respondents and answers from all surveys\n",
    "\n",
    "PREFIX prov: <http://www.w3.org/ns/prov#>\n",
    "PREFIX RLWF: <https://raw.githubusercontent.com/caiolopesdasilva/reliable_linked_web_forms/main/onto/RLWF.owl#>\n",
    "PREFIX terms: <http://purl.org/dc/terms/>\n",
    "\n",
    "SELECT DISTINCT (str(?title) as ?title) (str(?name) as ?participant) (str(?questiontxt) as ?question)  (str(?answer) as ?answer)WHERE {\n",
    "  ?form RLWF:hasQuestion ?question.\n",
    "  ?form terms:title ?title.\n",
    "  ?person RLWF:agent_name ?name.\n",
    "  ?instance prov:wasAttributedTo ?person.\n",
    "  ?instance a RLWF:FormAnswer.\n",
    "  ?answerinstance RLWF:hasFormResponse ?instance.\n",
    "  ?answerinstance RLWF:hasAnswer ?answer.\n",
    "  ?answerinstance RLWF:hasAnswerTo ?query.\n",
    "  ?query RLWF:hasText ?questiontxt.\n",
    "\n",
    "}\n",
    "  ORDER BY asc(?answerinstance)"
   ]
  },
  {
   "cell_type": "code",
   "execution_count": null,
   "id": "9eecb087",
   "metadata": {},
   "outputs": [],
   "source": [
    "PREFIX prov: <http://www.w3.org/ns/prov#>\n",
    "PREFIX RLWF: <https://raw.githubusercontent.com/caiolopesdasilva/reliable_linked_web_forms/main/onto/RLWF.owl#>\n",
    "PREFIX terms: <http://purl.org/dc/terms/>\n",
    "\n",
    "SELECT DISTINCT (str(?title) as ?title) (str(?order) as ?QuestionOrder) (str(?name) as ?participant) (str(?questiontxt) as ?question)  (str(?answer) as ?answer) WHERE {\n",
    "\n",
    "  ?form terms:title ?title.\n",
    "  ?form RLWF:hasQuestion ?question.\n",
    "  ?query RLWF:text ?questiontxt.\n",
    "  ?query RLWF:questionOrder ?order.\n",
    "  ?answerinstance RLWF:answerClusterOrder ?instance.\n",
    "  ?person RLWF:agent_name ?name.\n",
    "  ?answerinstance prov:wasAttributedTo ?person.\n",
    "  ?answerinstance RLWF:hasIndividualAnswer ?x.\n",
    "  ?x RLWF:hasAnswerTo ?query.\n",
    "  ?x RLWF:individual_answer ?answer\n",
    "\n",
    "}\n",
    "order by ?instance ?order "
   ]
  },
  {
   "cell_type": "code",
   "execution_count": null,
   "id": "24769203",
   "metadata": {},
   "outputs": [],
   "source": [
    "PREFIX prov: <http://www.w3.org/ns/prov#>\n",
    "PREFIX RLWF: <https://raw.githubusercontent.com/caiolopesdasilva/reliable_linked_web_forms/main/onto/RLWF.owl#>\n",
    "PREFIX terms: <http://purl.org/dc/terms/>\n",
    "\n",
    "SELECT DISTINCT (str(?title) as ?title) (str(?order) as ?QuestionOrder) (str(?name) as ?participant) (str(?questiontxt) as ?question)  (str(?answer) as ?answer) ?uri WHERE {\n",
    "\n",
    "  ?form terms:title ?title.\n",
    "  ?form RLWF:hasQuestion ?question.\n",
    "  ?query RLWF:text ?questiontxt.\n",
    "  ?query RLWF:questionOrder ?order.\n",
    "  ?answerinstance RLWF:answerClusterOrder ?instance.\n",
    "  ?person RLWF:agent_name ?name.\n",
    "  ?answerinstance prov:wasAttributedTo ?person.\n",
    "  ?answerinstance RLWF:hasIndividualAnswer ?x.\n",
    "  ?x RLWF:hasAnswerTo ?query.\n",
    "  ?x RLWF:individual_answer ?answer.\n",
    "  ?x RLWF:answerURI ?uri.\n",
    "\n",
    "FILTER(regex(?uri, \"Q55\")).\n",
    "}\n",
    "order by ?instance ?order "
   ]
  },
  {
   "cell_type": "code",
   "execution_count": null,
   "id": "09dc5908",
   "metadata": {},
   "outputs": [],
   "source": [
    "#List all surveys and description\n",
    "\n",
    "PREFIX RLWF: <https://raw.githubusercontent.com/caiolopesdasilva/reliable_linked_web_forms/main/onto/RLWF.owl#>\n",
    "\n",
    "\n",
    "SELECT (str(?title) as ?Title) (str(?desc) as ?Description)\n",
    "(str(?strdate) as ?Start_Date) (str(?enddate) as ?End_Date) WHERE  {\n",
    "\n",
    "  ?x RLWF:form_title ?title.\n",
    "  ?x RLWF:form_counter ?counter.\n",
    "  ?x RLWF:form_description ?desc.\n",
    "  ?x RLWF:form_startdate ?strdate. \n",
    "  ?x RLWF:form_enddate ?enddate.\n",
    "}\n",
    "order by ?counter"
   ]
  },
  {
   "cell_type": "code",
   "execution_count": 88,
   "id": "d6f9dafa",
   "metadata": {},
   "outputs": [
    {
     "name": "stdout",
     "output_type": "stream",
     "text": [
      "FREE RDF Webinar at the Avengers HQ Webinar will be hosted via Zoom with Scott Lang being the host. Max of 10 persons, so fill the form fast! 2021-06-05T10:24:00 2021-06-30T10:24:00\n",
      "Blockchain education for all. Blockchain technology is most simply defined as a decentralized, distributed ledger that records the provenance of a digital asset. This event will be hosted online by John Connor 2021-05-15T14:10:55 2021-06-15T23:59:59\n"
     ]
    }
   ],
   "source": [
    "from SPARQLWrapper import SPARQLWrapper, JSON\n",
    "\n",
    "sparql = SPARQLWrapper(\"http://localhost:8890/sparql/\")\n",
    "sparql.setQuery(\"\"\"\n",
    "PREFIX RLWF: <https://raw.githubusercontent.com/caiolopesdasilva/reliable_linked_web_forms/main/onto/RLWF.owl#>\n",
    "\n",
    "\n",
    "SELECT (str(?title) as ?Title) (str(?desc) as ?Description)\n",
    "(str(?strdate) as ?Start_Date) (str(?enddate) as ?End_Date) WHERE  {\n",
    "\n",
    "  ?x RLWF:form_title ?title.\n",
    "  ?x RLWF:form_counter ?counter.\n",
    "  ?x RLWF:form_description ?desc.\n",
    "  ?x RLWF:form_startdate ?strdate. \n",
    "  ?x RLWF:form_enddate ?enddate.\n",
    "}\n",
    "order by ?counter\n",
    "\"\"\")\n",
    "sparql.setReturnFormat(JSON)\n",
    "results = sparql.query().convert()\n",
    "\n",
    "for result in results[\"results\"][\"bindings\"]:\n",
    "    print(result[\"Title\"][\"value\"], result[\"Description\"][\"value\"], result[\"Start_Date\"][\"value\"], result[\"End_Date\"][\"value\"])\n",
    "\n",
    "\n"
   ]
  },
  {
   "cell_type": "code",
   "execution_count": null,
   "id": "2704a23d",
   "metadata": {},
   "outputs": [],
   "source": [
    "PREFIX RLWF: <https://raw.githubusercontent.com/caiolopesdasilva/reliable_linked_web_forms/main/onto/RLWF.owl#>\n",
    "\n",
    "SELECT DISTINCT (str(?counter) as ?Counter) (str(?text) as ?text) (str(?type) as ?Type)\n",
    "WHERE {\n",
    "  ?entity a ?type.\n",
    "  ?entity \n",
    "  ?type rdfs:subClassOf* RLWF:Question.\n",
    "  ?entity RLWF:text ?text.\n",
    "  ?entity RLWF:question_counter ?counter.\n",
    "\n",
    " filter contains(str(?entity),\"F01\").\n",
    "}\n",
    "ORDER BY asc(?entity)"
   ]
  }
 ],
 "metadata": {
  "kernelspec": {
   "display_name": "Python 3",
   "language": "python",
   "name": "python3"
  },
  "language_info": {
   "codemirror_mode": {
    "name": "ipython",
    "version": 3
   },
   "file_extension": ".py",
   "mimetype": "text/x-python",
   "name": "python",
   "nbconvert_exporter": "python",
   "pygments_lexer": "ipython3",
   "version": "3.9.5"
  }
 },
 "nbformat": 4,
 "nbformat_minor": 5
}
